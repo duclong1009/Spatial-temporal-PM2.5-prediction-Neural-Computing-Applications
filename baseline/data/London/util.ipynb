{
 "cells": [
  {
   "cell_type": "code",
   "execution_count": 1,
   "metadata": {},
   "outputs": [],
   "source": [
    "import pandas as pd \n",
    "import numpy as np "
   ]
  },
  {
   "cell_type": "code",
   "execution_count": 2,
   "metadata": {},
   "outputs": [
    {
     "data": {
      "text/plain": [
       "['SOM [AQ]',\n",
       " 'HRL [AQ]',\n",
       " 'THUR [AQ]',\n",
       " 'WC [AQ]',\n",
       " 'BPLE [AQ]',\n",
       " 'HARR [AQ]',\n",
       " 'MACK [AQ]',\n",
       " 'SWAN [AQ]',\n",
       " 'BRS8 [AQ]',\n",
       " 'LINC [AQ]',\n",
       " 'HORE [AQ]',\n",
       " 'BRAD [AQ]',\n",
       " 'BRS [AQ]',\n",
       " 'ESK [AQ]',\n",
       " 'NWBV [AQ]',\n",
       " 'WTHG [AQ]',\n",
       " 'CARL [AQ]',\n",
       " 'PLYM [AQ]',\n",
       " 'WEYB [AQ]',\n",
       " 'BRS2 [AQ]',\n",
       " 'DUMB [AQ]',\n",
       " 'BR11 [AQ]',\n",
       " 'CHBR [AQ]',\n",
       " 'BORN [AQ]',\n",
       " 'BRIS [AQ]',\n",
       " 'SWA1 [AQ]',\n",
       " 'PLYR [AQ]',\n",
       " 'LIN3 [AQ]',\n",
       " 'HIL [AQ]',\n",
       " 'SV [AQ]']"
      ]
     },
     "execution_count": 2,
     "metadata": {},
     "output_type": "execute_result"
    }
   ],
   "source": [
    "data = './location.csv'\n",
    "df = pd.read_csv(data)\n",
    "lst_stats = df['location'].tolist()\n",
    "lst_stats"
   ]
  }
 ],
 "metadata": {
  "interpreter": {
   "hash": "fd69f43f58546b570e94fd7eba7b65e6bcc7a5bbc4eab0408017d18902915d69"
  },
  "kernelspec": {
   "display_name": "Python 3.7.5 64-bit",
   "language": "python",
   "name": "python3"
  },
  "language_info": {
   "codemirror_mode": {
    "name": "ipython",
    "version": 3
   },
   "file_extension": ".py",
   "mimetype": "text/x-python",
   "name": "python",
   "nbconvert_exporter": "python",
   "pygments_lexer": "ipython3",
   "version": "3.7.5"
  },
  "orig_nbformat": 4
 },
 "nbformat": 4,
 "nbformat_minor": 2
}
