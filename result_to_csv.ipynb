{
 "cells": [
  {
   "cell_type": "code",
   "execution_count": 1,
   "metadata": {},
   "outputs": [],
   "source": [
    "import pandas as pd \n",
    "import numpy as np "
   ]
  },
  {
   "cell_type": "code",
   "execution_count": 14,
   "metadata": {},
   "outputs": [],
   "source": [
    "fn = 'err_1_14'\n",
    "result = {\"columns\": [\"STATION\", \"MAE\", \"MSE\", \"MAPE\", \"RMSE\", \"R2\", \"CORR\"], \"data\": [[24.0, 2.1009232695140536, 9.68933970678583, 0.18525121192987481, 3.11277042307746, 0.7130131031342088, 0.8867731688400541], [25.0, 2.146452359778047, 9.083916004747026, 0.282953467247383, 3.0139535505291097, 0.6828336060268765, 0.8329813909078482], [26.0, 2.172458303641088, 10.325266530231792, 0.2632834442068946, 3.2132952759171998, 0.524313341106261, 0.7618954330294434], [27.0, 2.529394146983092, 13.090531005500965, 0.27372482248836894, 3.618083885912675, 0.6156028108061716, 0.7958544573105609], [28.0, 3.5040800979501054, 22.194772974500133, 0.2893321063197049, 4.711132875912134, 0.4119451324618011, 0.8423622080492605], [29.0, 5.485457039809046, 45.956434278380996, 2.56307535773264, 6.779117514719817, -7.642419223845005, 0.4776625257683559]]}"
   ]
  },
  {
   "cell_type": "code",
   "execution_count": 15,
   "metadata": {},
   "outputs": [],
   "source": [
    "columns = result['columns']\n",
    "\n",
    "lst_data = []\n",
    "for row in result['data']:\n",
    "    it = {}\n",
    "    for idx, key in enumerate(row):\n",
    "        it.update({columns[idx]: key})\n",
    "    lst_data.append(it)\n",
    "\n",
    "df = pd.DataFrame(data=lst_data, columns=columns)\n",
    "mean_mae =df['MAE'].mean()\n",
    "mean_mse = df['MSE'].mean()\n",
    "mean_mape = df['MAPE'].mean()\n",
    "mean_r2 = df['R2'].mean()\n",
    "mean_corr = df['CORR'].mean()\n",
    "mean_rmse = df['RMSE'].mean()\n",
    "agg_res =  {'STATION': 'Mean', 'MAE': mean_mae, 'MSE': mean_mse, 'MAPE': mean_mape, 'RMSE': mean_rmse, 'R2': mean_r2, 'CORR':mean_corr}\n",
    "lst_data.append(agg_res)\n",
    "df_final = pd.DataFrame(data=lst_data, columns=columns)\n",
    "df_final.to_csv('./out/sweep/{}.csv'.format(fn))"
   ]
  },
  {
   "cell_type": "code",
   "execution_count": 13,
   "metadata": {},
   "outputs": [],
   "source": [
    "\n",
    "data = './result/test1/Station_24.csv'\n",
    "df = pd.read_csv(data, usecols=['grt', 'prd'])\n",
    "df2 = df[-105:]\n",
    "df2 = df2.reset_index(drop=True)\n",
    "df2.to_csv('./result/test1/Station_24_cut_stdgi.csv')"
   ]
  },
  {
   "cell_type": "code",
   "execution_count": 14,
   "metadata": {},
   "outputs": [],
   "source": [
    "import json\n",
    "\n",
    "with open('./result.json', 'r') as f:\n",
    "    data = json.load(f)\n",
    "    \n",
    "dat = data['Station_24'][-105:]\n",
    "df2['prd'] = dat \n",
    "df2.to_csv('./result/test1/Station_24_cut_stdgi.csv')"
   ]
  }
 ],
 "metadata": {
  "interpreter": {
   "hash": "fd69f43f58546b570e94fd7eba7b65e6bcc7a5bbc4eab0408017d18902915d69"
  },
  "kernelspec": {
   "display_name": "Python 3.7.5 64-bit",
   "language": "python",
   "name": "python3"
  },
  "language_info": {
   "codemirror_mode": {
    "name": "ipython",
    "version": 3
   },
   "file_extension": ".py",
   "mimetype": "text/x-python",
   "name": "python",
   "nbconvert_exporter": "python",
   "pygments_lexer": "ipython3",
   "version": "3.7.5"
  },
  "orig_nbformat": 4
 },
 "nbformat": 4,
 "nbformat_minor": 2
}
