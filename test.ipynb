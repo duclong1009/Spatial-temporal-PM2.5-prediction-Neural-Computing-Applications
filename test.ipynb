{
 "cells": [
  {
   "cell_type": "code",
   "execution_count": 1,
   "metadata": {},
   "outputs": [],
   "source": [
    "import pandas as pd\n",
    "import numpy as np\n",
    "import datetime\n",
    "from datetime import date"
   ]
  },
  {
   "cell_type": "code",
   "execution_count": 20,
   "metadata": {},
   "outputs": [
    {
     "data": {
      "text/plain": [
       "'2021-01-01 00:00:00'"
      ]
     },
     "execution_count": 20,
     "metadata": {},
     "output_type": "execute_result"
    }
   ],
   "source": [
    "from datetime import datetime, timedelta\n",
    "\n",
    "DATE_TIME_STRING_FORMAT = '%Y-%m-%d %H:%M:%S'\n",
    "\n",
    "from_date_time = datetime.strptime('2021-01-01 00:00:00',\n",
    "                                   DATE_TIME_STRING_FORMAT)\n",
    "to_date_time = datetime.strptime('2022-01-01 00:00:00',\n",
    "                                 DATE_TIME_STRING_FORMAT)\n",
    "\n",
    "date_times = [from_date_time.strftime(DATE_TIME_STRING_FORMAT)]\n",
    "date_time = from_date_time\n",
    "while date_time < to_date_time:\n",
    "    date_time += timedelta(hours=1)\n",
    "    date_times.append(date_time.strftime(DATE_TIME_STRING_FORMAT))"
   ]
  },
  {
   "cell_type": "code",
   "execution_count": 7,
   "metadata": {},
   "outputs": [],
   "source": [
    "station = pd.read_csv(\"data/hanoi/location.csv\").values[:,0]"
   ]
  },
  {
   "cell_type": "code",
   "execution_count": null,
   "metadata": {},
   "outputs": [],
   "source": [
    "base_df = pd.read_csv('data/hanoi/base_date.csv')\n",
    "for s in station:\n",
    "    file_name = s + \".csv\"\n",
    "    df_pv = pd.read_csv(f\"data/hanoi/{file_name}\")\n",
    "    merge_df = pd.merge(base_df, df_pv, how='left', on='time')[[\"time\",\"PM2.5\",\"humidity\",\"temperature\"]]\n",
    "    merge_df.to_csv(f\"data/AQ_hanoi/{s}.csv\", index=False)"
   ]
  },
  {
   "cell_type": "code",
   "execution_count": 3,
   "metadata": {},
   "outputs": [],
   "source": []
  },
  {
   "cell_type": "code",
   "execution_count": 4,
   "metadata": {},
   "outputs": [],
   "source": [
    "df_pv = pd.read_csv(\"data/hanoi/S0000099-Phu Vien_merge.csv\")"
   ]
  },
  {
   "cell_type": "code",
   "execution_count": 6,
   "metadata": {},
   "outputs": [
    {
     "data": {
      "text/html": [
       "<div>\n",
       "<style scoped>\n",
       "    .dataframe tbody tr th:only-of-type {\n",
       "        vertical-align: middle;\n",
       "    }\n",
       "\n",
       "    .dataframe tbody tr th {\n",
       "        vertical-align: top;\n",
       "    }\n",
       "\n",
       "    .dataframe thead th {\n",
       "        text-align: right;\n",
       "    }\n",
       "</style>\n",
       "<table border=\"1\" class=\"dataframe\">\n",
       "  <thead>\n",
       "    <tr style=\"text-align: right;\">\n",
       "      <th></th>\n",
       "      <th>time</th>\n",
       "      <th>PM2.5</th>\n",
       "      <th>humidity</th>\n",
       "      <th>temperature</th>\n",
       "    </tr>\n",
       "  </thead>\n",
       "  <tbody>\n",
       "    <tr>\n",
       "      <th>0</th>\n",
       "      <td>2021-01-01 00:00:00</td>\n",
       "      <td>52.70</td>\n",
       "      <td>68.7</td>\n",
       "      <td>13.6</td>\n",
       "    </tr>\n",
       "    <tr>\n",
       "      <th>1</th>\n",
       "      <td>2021-01-01 01:00:00</td>\n",
       "      <td>50.30</td>\n",
       "      <td>67.5</td>\n",
       "      <td>13.3</td>\n",
       "    </tr>\n",
       "    <tr>\n",
       "      <th>2</th>\n",
       "      <td>2021-01-01 02:00:00</td>\n",
       "      <td>56.60</td>\n",
       "      <td>66.0</td>\n",
       "      <td>13.1</td>\n",
       "    </tr>\n",
       "    <tr>\n",
       "      <th>3</th>\n",
       "      <td>2021-01-01 03:00:00</td>\n",
       "      <td>61.81</td>\n",
       "      <td>65.7</td>\n",
       "      <td>13.0</td>\n",
       "    </tr>\n",
       "    <tr>\n",
       "      <th>4</th>\n",
       "      <td>2021-01-01 04:00:00</td>\n",
       "      <td>75.08</td>\n",
       "      <td>62.6</td>\n",
       "      <td>12.3</td>\n",
       "    </tr>\n",
       "    <tr>\n",
       "      <th>...</th>\n",
       "      <td>...</td>\n",
       "      <td>...</td>\n",
       "      <td>...</td>\n",
       "      <td>...</td>\n",
       "    </tr>\n",
       "    <tr>\n",
       "      <th>8755</th>\n",
       "      <td>2021-12-31 19:00:00</td>\n",
       "      <td>64.60</td>\n",
       "      <td>75.9</td>\n",
       "      <td>17.7</td>\n",
       "    </tr>\n",
       "    <tr>\n",
       "      <th>8756</th>\n",
       "      <td>2021-12-31 20:00:00</td>\n",
       "      <td>57.40</td>\n",
       "      <td>76.0</td>\n",
       "      <td>17.7</td>\n",
       "    </tr>\n",
       "    <tr>\n",
       "      <th>8757</th>\n",
       "      <td>2021-12-31 21:00:00</td>\n",
       "      <td>56.20</td>\n",
       "      <td>75.8</td>\n",
       "      <td>17.7</td>\n",
       "    </tr>\n",
       "    <tr>\n",
       "      <th>8758</th>\n",
       "      <td>2021-12-31 22:00:00</td>\n",
       "      <td>66.20</td>\n",
       "      <td>76.1</td>\n",
       "      <td>17.7</td>\n",
       "    </tr>\n",
       "    <tr>\n",
       "      <th>8759</th>\n",
       "      <td>2021-12-31 23:00:00</td>\n",
       "      <td>78.60</td>\n",
       "      <td>76.5</td>\n",
       "      <td>17.6</td>\n",
       "    </tr>\n",
       "  </tbody>\n",
       "</table>\n",
       "<p>8760 rows × 4 columns</p>\n",
       "</div>"
      ],
      "text/plain": [
       "                     time  PM2.5  humidity  temperature\n",
       "0     2021-01-01 00:00:00  52.70      68.7         13.6\n",
       "1     2021-01-01 01:00:00  50.30      67.5         13.3\n",
       "2     2021-01-01 02:00:00  56.60      66.0         13.1\n",
       "3     2021-01-01 03:00:00  61.81      65.7         13.0\n",
       "4     2021-01-01 04:00:00  75.08      62.6         12.3\n",
       "...                   ...    ...       ...          ...\n",
       "8755  2021-12-31 19:00:00  64.60      75.9         17.7\n",
       "8756  2021-12-31 20:00:00  57.40      76.0         17.7\n",
       "8757  2021-12-31 21:00:00  56.20      75.8         17.7\n",
       "8758  2021-12-31 22:00:00  66.20      76.1         17.7\n",
       "8759  2021-12-31 23:00:00  78.60      76.5         17.6\n",
       "\n",
       "[8760 rows x 4 columns]"
      ]
     },
     "execution_count": 6,
     "metadata": {},
     "output_type": "execute_result"
    }
   ],
   "source": [
    "merge_df = pd.merge(base_df, df_pv, how='left', on='time')\n",
    "merge_df[[\"time\",\"PM2.5\",\"humidity\",\"temperature\"]] "
   ]
  },
  {
   "cell_type": "code",
   "execution_count": 34,
   "metadata": {},
   "outputs": [],
   "source": [
    "merge_df.to_csv(\"S0000099-Phu Vien_merge.csv\")"
   ]
  }
 ],
 "metadata": {
  "kernelspec": {
   "display_name": "Python 3.7.5 64-bit",
   "language": "python",
   "name": "python3"
  },
  "language_info": {
   "codemirror_mode": {
    "name": "ipython",
    "version": 3
   },
   "file_extension": ".py",
   "mimetype": "text/x-python",
   "name": "python",
   "nbconvert_exporter": "python",
   "pygments_lexer": "ipython3",
   "version": "3.7.5"
  },
  "orig_nbformat": 4,
  "vscode": {
   "interpreter": {
    "hash": "fd69f43f58546b570e94fd7eba7b65e6bcc7a5bbc4eab0408017d18902915d69"
   }
  }
 },
 "nbformat": 4,
 "nbformat_minor": 2
}
